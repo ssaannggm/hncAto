{
 "cells": [
  {
   "cell_type": "code",
   "execution_count": null,
   "metadata": {},
   "outputs": [],
   "source": [
    "%pip install pyhwpx"
   ]
  },
  {
   "cell_type": "code",
   "execution_count": 264,
   "metadata": {},
   "outputs": [
    {
     "data": {
      "text/plain": [
       "True"
      ]
     },
     "execution_count": 264,
     "metadata": {},
     "output_type": "execute_result"
    }
   ],
   "source": [
    "#클립보드에서 함수추출\n",
    "from pyhwpx import Hwp\n",
    "import time\n",
    "# Hwp 인스턴스 생성\n",
    "hwp = Hwp()\n",
    "hwp.Run(\"FileOpen\")"
   ]
  },
  {
   "cell_type": "code",
   "execution_count": null,
   "metadata": {},
   "outputs": [],
   "source": [
    "hwp.Path()"
   ]
  },
  {
   "cell_type": "code",
   "execution_count": 537,
   "metadata": {},
   "outputs": [],
   "source": [
    "#이전 문단\n",
    "hwp.Cancel()\n",
    "hwp.MoveParaBegin()#home키\n",
    "hwp.MovePrevParaBegin()#다음 문단 시작으로 커서 이동\n",
    "hwp.MoveSelParaEnd()#문단 끝까지 셀 선택\n",
    "\n",
    "# 표나 엔터도 선택되버림.\n",
    "if hwp.get_selected_text() : \n",
    "    hwp.get_selected_text()\n",
    "else: \n",
    "    print(\"없음\")\n",
    "    #hwp.MoveNextChar()\n",
    "    #hwp.MovePrevChar()\n",
    "    hwp.Cancel()\n",
    "    hwp.MoveLeft()"
   ]
  },
  {
   "cell_type": "code",
   "execution_count": null,
   "metadata": {},
   "outputs": [],
   "source": [
    "#다음 문단\n",
    "hwp.Cancel()\n",
    "hwp.MoveParaBegin()#home키\n",
    "hwp.MoveNextParaBegin()#다음 문단 시작으로 커서 이동\n",
    "hwp.MoveSelParaEnd()#문단 끝까지 셀 선택\n",
    "hwp.get_selected_text()\n",
    "if hwp.get_selected_text() : \n",
    "    print(hwp.get_selected_text())#저장\n",
    "else: \n",
    "    print(\"없음\")#저장안함\n",
    "    #hwp.MovePrevParaEnd() # 셀렉션의 str로 저장\n",
    "    #hwp.MoveLeft()\n",
    "    #hwp.MoveLineUp()\n",
    "    #hwp.MovePrevChar()\n",
    "    hwp.Cancel()\n",
    "    hwp.MoveLeft()"
   ]
  },
  {
   "cell_type": "code",
   "execution_count": null,
   "metadata": {},
   "outputs": [],
   "source": [
    "if hwp.get_selected_text() : \n",
    "    hwp.get_selected_text()\n",
    "else: \n",
    "    print(\"없음\")\n",
    "    hwp.MoveNextChar()"
   ]
  },
  {
   "cell_type": "code",
   "execution_count": null,
   "metadata": {},
   "outputs": [],
   "source": [
    "\n",
    "para_total = 0\n",
    "para_index = 0\n",
    "para_list =[]\n",
    "def 다음문단():\n",
    "    hwp.Cancel()\n",
    "    hwp.MoveParaBegin()#home키\n",
    "    hwp.MoveNextParaBegin()#다음 문단 시작으로 커서 이동\n",
    "    hwp.MoveSelParaEnd()#문단 끝까지 셀 선택\n",
    "def 리스트추가():\n",
    "    global para_list\n",
    "    if hwp.get_selected_text() : \n",
    "        para_list.append(hwp.get_selected_text()) #선택된 셀을 str로 리스트에 담음\n",
    "    else: \n",
    "        ###엔터인 부분.. \n",
    "        hwp.Cancel()\n",
    "        hwp.MoveLeft()\n",
    "\n",
    "hwp.Cancel()\n",
    "hwp.MoveDocBegin()# 맨 처음으로\n",
    "hwp.MoveSelParaEnd()#문단 끝까지 셀 선택\n",
    "리스트추가()\n",
    "while True:\n",
    "    다음문단()\n",
    "    # if hwp.get_selected_text():\n",
    "    #     #엔터아님\n",
    "    # else:\n",
    "    #     #엔터\n",
    "    if para_list[-1] == hwp.get_selected_text():\n",
    "        #del para_list[-1]  # 리스트의 마지막 항목 제거\n",
    "        break\n",
    "    리스트추가()\n",
    "\n",
    "para_total = len(para_list)\n",
    "print(para_list)\n",
    "print(para_total)\n"
   ]
  },
  {
   "cell_type": "markdown",
   "metadata": {},
   "source": []
  },
  {
   "cell_type": "code",
   "execution_count": 271,
   "metadata": {},
   "outputs": [
    {
     "name": "stdout",
     "output_type": "stream",
     "text": [
      "['바탕글', '로마자', '1. 제목', '1) 제목', '(1) 제목', '본문', '표캡션', '표내용', '그림캡션', '차례_저자명', '차례', '표설명', '인용문', '꼬리머리_홀', '인용문_이', '본문_이', '각주_이', '표캡션_이', '표내용_이', '진_인용문', '표내용_진', '표내용_밑', '표설명_이', '차례_ㅣ', '각주', '참고문헌_본문', '참고문헌_진', '참고문헌_이', '윗_본문', '표내용_진_밑', '표내용_중간선', '쪽번호', '윗_표설명', '참고문헌_밑', '본문_진_밑', '본문_진', '논문제목', '저자명', '저자명별표', '이_영문제목', '초록', '주제어', '이_영문주제어', '영문제목', '영문저자명', '영문소속', '윗_표내용', '영문초록', '영문주제어', '각주번호모양', '각주숨김', '논문내목차본문', '표내용_진_이', '뒷본문_조', '뒷본문_조-1.', '뒷본문_조-1. - 1.', '뒷본문 장제목', '쪽 번호', '꼬리머리_짝', '국문부제목', '논문상단', '선', '요약', '본문_보통', '인용문 제목', '주제어_앞', '영문부제목', '투고일자', '요약_앞', '논문내목차제목', '판권', '상단제목', '상단제목_안', '차례 권호', '부록제목', '부록목차', '뒷본문_조-1-1-1', '차례_부록', '책제목', '표지 학교', '각주_진', '표상위목록', '긱주_진', '이_영문초록', '윗_초록', '윗_영문초록', '밑_인용문', '본문_윗_이', '윗_이_표내용', 'xl79', 'xl69', 'xl81', 'xl70', 'xl71', 'xl73', 'xl67', 'xl75', 'xl76', 'xl74', 'xl77', 'xl78', '국문초록', '대제목', '참고 문헌', '영문키워드', 'Ⅰ.', '본문-한글', '참고문헌 본문(도덕윤리과)', '참고이탤릭', '중제목', '작성방법', '머리말', 'Normal', '소제목', 'xl72', 'Ms Default', 'xl65', 'xl68', 'Body Text', '표_볼드', '표속_이탤릭', '메모', '표 속 볼드', '윗첨자', '본문_볼드', '쪽번호-짝수쪽', '쪽번호-홀수쪽', '개요 1_I', '개요 2_1.', '참고문헌_목록', '목차', '표내용(양쪽정렬)', 'td', '표미다시', '*참고문헌', '본문내용', '1.', '참고문헌', 'xl94', 'xl99', 'xl100', 'xl101', 'xl85', 'xl86', 'xl102', 'xl103', 'xl83', 'xl139', 'xl140', 'xl141', '인용', '미주', '본문글자', '초록앞: ', '장타이틀', '절타이틀', '논문_영문제목', '날짜_투고심사게재', '*목차', '*본문-한글', '*각주', '*1.', '*표 안글', '표내용(가운데정렬)', '표내용-왼쪽', '표위', '*표제목', '*인용문', '표-머리', '표-가운데', '*Ⅰ.', 'Abstract-제목', '00_교신저자', '*표좌측', '본문-가.-소제목*', '문헌-원문', '본문(글머리기호-점)*', '본문-(1)-본문*', '점선박스*', '000 본문', '6 표', '항제목', '로마', '가.나.제목', '.참고문헌(본문)', 'xl66', '그림제목', 'Table Paragraph', '표제목', '영문이름', '참고문헌 내용', 'xl82', 'xl80', 'xl87', 'xl88', 'xl89', 'xl90', 'xl91', 'xl93', 'xl95', 'xl92', 'xl96', 'xl105', 'xl106', 'xl112', 'xl98', '표 내용', '표안_무점', '큰제목', '글제목', '1.절제목']\n"
     ]
    }
   ],
   "source": [
    "dic = hwp.get_style_dict()\n",
    "names = [item['name'] for item in dic]\n",
    "print(names)  #-> 그대로 콤보 박스 벨류에 넣고 한번 업데이트 해주면될듯\n"
   ]
  },
  {
   "cell_type": "code",
   "execution_count": 273,
   "metadata": {},
   "outputs": [],
   "source": [
    "import tkinter as tk\n",
    "from tkinter import ttk\n",
    "import re\n",
    "para = 0\n",
    "# Tkinter 윈도우 생성\n",
    "root = tk.Tk()\n",
    "root.title(\"Combobox Example\")\n",
    "# Combobox 프레임 생성\n",
    "frame_cell_macro = tk.Frame(root)\n",
    "frame_cell_macro.pack(pady=10, padx=10)\n",
    "\n",
    "# Combobox 생성 및 리스트 지정\n",
    "dropdown1 = ttk.Combobox(frame_cell_macro, values=names)\n",
    "dropdown1.pack()\n",
    "dropdown1.state([\"readonly\"])\n",
    "dropdown1.set(\"선택하세요\")  # 초기값 지정\n",
    "\n",
    "\n",
    "\n",
    "\n",
    "def 다음_찾기():\n",
    "    global para\n",
    "    while hwp.set_pos(0, para, 0):\n",
    "        hwp.MoveSelLineEnd()\n",
    "        if re.match(r\"\\d+\\)\", hwp.get_selected_text()):\n",
    "            selected_value = dropdown1.get()\n",
    "            hwp.set_style(f\"{selected_value}\")  # 2번스타일(개요 1) 적용\n",
    "            para+=1\n",
    "            break\n",
    "        else:\n",
    "            pass\n",
    "        hwp.Cancel()\n",
    "        para+=1\n",
    "btn1 = ttk.Button(frame_cell_macro, text=\"다음 찾기\", command=다음_찾기)\n",
    "btn1.pack()\n",
    "\n",
    "\n",
    "\n",
    "\n",
    "\n",
    "\n",
    "\n",
    "\n",
    "root.mainloop()\n"
   ]
  },
  {
   "cell_type": "code",
   "execution_count": null,
   "metadata": {},
   "outputs": [
    {
     "ename": "KeyboardInterrupt",
     "evalue": "",
     "output_type": "error",
     "traceback": [
      "\u001b[1;31m---------------------------------------------------------------------------\u001b[0m",
      "\u001b[1;31mKeyboardInterrupt\u001b[0m                         Traceback (most recent call last)",
      "Cell \u001b[1;32mIn[258], line 7\u001b[0m\n\u001b[0;32m      4\u001b[0m \u001b[38;5;28;01mwhile\u001b[39;00m hwp\u001b[38;5;241m.\u001b[39mset_pos(\u001b[38;5;241m0\u001b[39m, para, \u001b[38;5;241m0\u001b[39m):\n\u001b[0;32m      5\u001b[0m     hwp\u001b[38;5;241m.\u001b[39mMoveSelLineEnd()\n\u001b[0;32m      6\u001b[0m     \u001b[38;5;28;01mif\u001b[39;00m re\u001b[38;5;241m.\u001b[39mmatch(\u001b[38;5;124mr\u001b[39m\u001b[38;5;124m\"\u001b[39m\u001b[38;5;124m[IXV]+\u001b[39m\u001b[38;5;124m\\\u001b[39m\u001b[38;5;124m.\u001b[39m\u001b[38;5;124m\"\u001b[39m,  \u001b[38;5;66;03m# 로마자. 서식이면 \u001b[39;00m\n\u001b[1;32m----> 7\u001b[0m                 \u001b[43mhwp\u001b[49m\u001b[38;5;241;43m.\u001b[39;49m\u001b[43mget_selected_text\u001b[49m\u001b[43m(\u001b[49m\u001b[43m)\u001b[49m):\n\u001b[0;32m      8\u001b[0m         selected_value \u001b[38;5;241m=\u001b[39m dropdown1\u001b[38;5;241m.\u001b[39mget()\n\u001b[0;32m      9\u001b[0m         hwp\u001b[38;5;241m.\u001b[39mset_style(\u001b[38;5;124mf\u001b[39m\u001b[38;5;124m\"\u001b[39m\u001b[38;5;132;01m{\u001b[39;00mselected_value\u001b[38;5;132;01m}\u001b[39;00m\u001b[38;5;124m\"\u001b[39m)  \u001b[38;5;66;03m# 2번스타일(개요 1) 적용\u001b[39;00m\n",
      "File \u001b[1;32mc:\\Users\\tkdal\\miniconda3\\Lib\\site-packages\\pyhwpx.py:3502\u001b[0m, in \u001b[0;36mHwp.get_selected_text\u001b[1;34m(self, as_)\u001b[0m\n\u001b[0;32m   3500\u001b[0m         \u001b[38;5;28mself\u001b[39m\u001b[38;5;241m.\u001b[39mTableCellBlock()\n\u001b[0;32m   3501\u001b[0m     \u001b[38;5;28;01melse\u001b[39;00m:\n\u001b[1;32m-> 3502\u001b[0m         \u001b[38;5;28;43mself\u001b[39;49m\u001b[38;5;241;43m.\u001b[39;49m\u001b[43mSelect\u001b[49m\u001b[43m(\u001b[49m\u001b[43m)\u001b[49m\n\u001b[0;32m   3503\u001b[0m         \u001b[38;5;28mself\u001b[39m\u001b[38;5;241m.\u001b[39mSelect()\n\u001b[0;32m   3504\u001b[0m \u001b[38;5;28;01mif\u001b[39;00m \u001b[38;5;129;01mnot\u001b[39;00m \u001b[38;5;28mself\u001b[39m\u001b[38;5;241m.\u001b[39mhwp\u001b[38;5;241m.\u001b[39mInitScan(Range\u001b[38;5;241m=\u001b[39m\u001b[38;5;241m0xff\u001b[39m):\n",
      "File \u001b[1;32mc:\\Users\\tkdal\\miniconda3\\Lib\\site-packages\\pyhwpx.py:10823\u001b[0m, in \u001b[0;36mHwp.Select\u001b[1;34m(self)\u001b[0m\n\u001b[0;32m  10819\u001b[0m \u001b[38;5;250m\u001b[39m\u001b[38;5;124;03m\"\"\"\u001b[39;00m\n\u001b[0;32m  10820\u001b[0m \u001b[38;5;124;03m선택 (F3 Key를 누른 효과)\u001b[39;00m\n\u001b[0;32m  10821\u001b[0m \u001b[38;5;124;03m\"\"\"\u001b[39;00m\n\u001b[0;32m  10822\u001b[0m \u001b[38;5;66;03m# return self.hwp.HAction.Run(\"Select\")\u001b[39;00m\n\u001b[1;32m> 10823\u001b[0m pset \u001b[38;5;241m=\u001b[39m \u001b[38;5;28;43mself\u001b[39;49m\u001b[38;5;241;43m.\u001b[39;49m\u001b[43mHParameterSet\u001b[49m\u001b[38;5;241m.\u001b[39mHInsertText\n\u001b[0;32m  10824\u001b[0m \u001b[38;5;28mself\u001b[39m\u001b[38;5;241m.\u001b[39mHAction\u001b[38;5;241m.\u001b[39mGetDefault(\u001b[38;5;124m\"\u001b[39m\u001b[38;5;124mSelect\u001b[39m\u001b[38;5;124m\"\u001b[39m, pset\u001b[38;5;241m.\u001b[39mHSet)\n\u001b[0;32m  10825\u001b[0m \u001b[38;5;28;01mreturn\u001b[39;00m \u001b[38;5;28mself\u001b[39m\u001b[38;5;241m.\u001b[39mHAction\u001b[38;5;241m.\u001b[39mExecute(\u001b[38;5;124m\"\u001b[39m\u001b[38;5;124mSelect\u001b[39m\u001b[38;5;124m\"\u001b[39m, pset\u001b[38;5;241m.\u001b[39mHSet)\n",
      "File \u001b[1;32mc:\\Users\\tkdal\\miniconda3\\Lib\\site-packages\\pyhwpx.py:895\u001b[0m, in \u001b[0;36mHwp.HParameterSet\u001b[1;34m(self)\u001b[0m\n\u001b[0;32m    880\u001b[0m \u001b[38;5;129m@property\u001b[39m\n\u001b[0;32m    881\u001b[0m \u001b[38;5;28;01mdef\u001b[39;00m \u001b[38;5;21mHParameterSet\u001b[39m(\u001b[38;5;28mself\u001b[39m):\n\u001b[0;32m    882\u001b[0m \u001b[38;5;250m    \u001b[39m\u001b[38;5;124;03m\"\"\"\u001b[39;00m\n\u001b[0;32m    883\u001b[0m \u001b[38;5;124;03m    한/글에서 실행되는 대부분의 액션에 필요한\u001b[39;00m\n\u001b[0;32m    884\u001b[0m \u001b[38;5;124;03m    다양한 파라미터셋을 제공해주는 속성.\u001b[39;00m\n\u001b[1;32m   (...)\u001b[0m\n\u001b[0;32m    893\u001b[0m \u001b[38;5;124;03m    :return:\u001b[39;00m\n\u001b[0;32m    894\u001b[0m \u001b[38;5;124;03m    \"\"\"\u001b[39;00m\n\u001b[1;32m--> 895\u001b[0m     \u001b[38;5;28;01mreturn\u001b[39;00m \u001b[38;5;28;43mself\u001b[39;49m\u001b[38;5;241;43m.\u001b[39;49m\u001b[43mhwp\u001b[49m\u001b[38;5;241;43m.\u001b[39;49m\u001b[43mHParameterSet\u001b[49m\n",
      "File \u001b[1;32mc:\\Users\\tkdal\\miniconda3\\Lib\\site-packages\\win32com\\client\\__init__.py:585\u001b[0m, in \u001b[0;36mDispatchBaseClass.__getattr__\u001b[1;34m(self, attr)\u001b[0m\n\u001b[0;32m    581\u001b[0m \u001b[38;5;28;01mif\u001b[39;00m args \u001b[38;5;129;01mis\u001b[39;00m \u001b[38;5;28;01mNone\u001b[39;00m:\n\u001b[0;32m    582\u001b[0m     \u001b[38;5;28;01mraise\u001b[39;00m \u001b[38;5;167;01mAttributeError\u001b[39;00m(\n\u001b[0;32m    583\u001b[0m         \u001b[38;5;124m\"\u001b[39m\u001b[38;5;124m'\u001b[39m\u001b[38;5;132;01m%s\u001b[39;00m\u001b[38;5;124m'\u001b[39m\u001b[38;5;124m object has no attribute \u001b[39m\u001b[38;5;124m'\u001b[39m\u001b[38;5;132;01m%s\u001b[39;00m\u001b[38;5;124m'\u001b[39m\u001b[38;5;124m\"\u001b[39m \u001b[38;5;241m%\u001b[39m (\u001b[38;5;28mrepr\u001b[39m(\u001b[38;5;28mself\u001b[39m), attr)\n\u001b[0;32m    584\u001b[0m     )\n\u001b[1;32m--> 585\u001b[0m \u001b[38;5;28;01mreturn\u001b[39;00m \u001b[38;5;28;43mself\u001b[39;49m\u001b[38;5;241;43m.\u001b[39;49m\u001b[43m_ApplyTypes_\u001b[49m\u001b[43m(\u001b[49m\u001b[38;5;241;43m*\u001b[39;49m\u001b[43margs\u001b[49m\u001b[43m)\u001b[49m\n",
      "File \u001b[1;32mc:\\Users\\tkdal\\miniconda3\\Lib\\site-packages\\win32com\\client\\__init__.py:574\u001b[0m, in \u001b[0;36mDispatchBaseClass._ApplyTypes_\u001b[1;34m(self, dispid, wFlags, retType, argTypes, user, resultCLSID, *args)\u001b[0m\n\u001b[0;32m    572\u001b[0m \u001b[38;5;28;01mdef\u001b[39;00m \u001b[38;5;21m_ApplyTypes_\u001b[39m(\u001b[38;5;28mself\u001b[39m, dispid, wFlags, retType, argTypes, user, resultCLSID, \u001b[38;5;241m*\u001b[39margs):\n\u001b[0;32m    573\u001b[0m     \u001b[38;5;28;01mreturn\u001b[39;00m \u001b[38;5;28mself\u001b[39m\u001b[38;5;241m.\u001b[39m_get_good_object_(\n\u001b[1;32m--> 574\u001b[0m         \u001b[38;5;28;43mself\u001b[39;49m\u001b[38;5;241;43m.\u001b[39;49m\u001b[43m_oleobj_\u001b[49m\u001b[38;5;241;43m.\u001b[39;49m\u001b[43mInvokeTypes\u001b[49m\u001b[43m(\u001b[49m\u001b[43mdispid\u001b[49m\u001b[43m,\u001b[49m\u001b[43m \u001b[49m\u001b[38;5;241;43m0\u001b[39;49m\u001b[43m,\u001b[49m\u001b[43m \u001b[49m\u001b[43mwFlags\u001b[49m\u001b[43m,\u001b[49m\u001b[43m \u001b[49m\u001b[43mretType\u001b[49m\u001b[43m,\u001b[49m\u001b[43m \u001b[49m\u001b[43margTypes\u001b[49m\u001b[43m,\u001b[49m\u001b[43m \u001b[49m\u001b[38;5;241;43m*\u001b[39;49m\u001b[43margs\u001b[49m\u001b[43m)\u001b[49m,\n\u001b[0;32m    575\u001b[0m         user,\n\u001b[0;32m    576\u001b[0m         resultCLSID,\n\u001b[0;32m    577\u001b[0m     )\n",
      "\u001b[1;31mKeyboardInterrupt\u001b[0m: "
     ]
    }
   ],
   "source": [
    "\n",
    "\n"
   ]
  },
  {
   "cell_type": "code",
   "execution_count": null,
   "metadata": {},
   "outputs": [],
   "source": []
  },
  {
   "cell_type": "code",
   "execution_count": 141,
   "metadata": {},
   "outputs": [
    {
     "data": {
      "text/plain": [
       "True"
      ]
     },
     "execution_count": 141,
     "metadata": {},
     "output_type": "execute_result"
    }
   ],
   "source": [
    "Table_list = [] # 모든 표의 갯수 찾기\n",
    "Table_Total = 0\n",
    "for i in hwp.ctrl_list:\n",
    "        if i.UserDesc == \"표\":#컨트롤이 표일 경우\n",
    "            Table_list.append(i)#리스트에 저장\n",
    "hwp.select_ctrl(Table_list[1])"
   ]
  },
  {
   "cell_type": "code",
   "execution_count": 129,
   "metadata": {},
   "outputs": [
    {
     "data": {
      "text/plain": [
       "0"
      ]
     },
     "execution_count": 129,
     "metadata": {},
     "output_type": "execute_result"
    }
   ],
   "source": [
    "ctrl = hwp.CurSelectedCtrl\n",
    "ctrl.Properties.Item(\"TreatAsChar\")"
   ]
  },
  {
   "cell_type": "code",
   "execution_count": 39,
   "metadata": {},
   "outputs": [
    {
     "data": {
      "text/plain": [
       "4"
      ]
     },
     "execution_count": 39,
     "metadata": {},
     "output_type": "execute_result"
    }
   ],
   "source": [
    "prop = hwp.CurSelectedCtrl\n",
    "#prop.SetItem(\"Width\")\\\n",
    "#print(prop.Properties.Item(\"Width\") /283.465)\n",
    "#prop.SetItem(\"WidthRelTo\")\n",
    "prop.Properties.Item(\"WidthRelTo\")"
   ]
  },
  {
   "cell_type": "code",
   "execution_count": null,
   "metadata": {},
   "outputs": [],
   "source": [
    "prop = hwp.CurSelectedCtrl.Properties\n",
    "prop.SetItem(\"WidthRelTo\", 1)\n",
    "prop.SetItem(\"Width\", 100) ##????????????????????????????????\n",
    "hwp.CurSelectedCtrl.Properties = prop"
   ]
  }
 ],
 "metadata": {
  "kernelspec": {
   "display_name": "base",
   "language": "python",
   "name": "python3"
  },
  "language_info": {
   "codemirror_mode": {
    "name": "ipython",
    "version": 3
   },
   "file_extension": ".py",
   "mimetype": "text/x-python",
   "name": "python",
   "nbconvert_exporter": "python",
   "pygments_lexer": "ipython3",
   "version": "3.11.5"
  }
 },
 "nbformat": 4,
 "nbformat_minor": 2
}
