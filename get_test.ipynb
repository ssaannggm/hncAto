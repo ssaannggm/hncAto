{
 "cells": [
  {
   "cell_type": "code",
   "execution_count": 61,
   "metadata": {},
   "outputs": [
    {
     "data": {
      "text/plain": [
       "True"
      ]
     },
     "execution_count": 61,
     "metadata": {},
     "output_type": "execute_result"
    }
   ],
   "source": [
    "#클립보드에서 함수추출\n",
    "from pyhwpx import Hwp\n",
    "import time\n",
    "# Hwp 인스턴스 생성\n",
    "hwp = Hwp()\n",
    "hwp.Run(\"FileOpen\")"
   ]
  },
  {
   "cell_type": "code",
   "execution_count": 62,
   "metadata": {},
   "outputs": [
    {
     "data": {
      "text/plain": [
       "True"
      ]
     },
     "execution_count": 62,
     "metadata": {},
     "output_type": "execute_result"
    }
   ],
   "source": [
    "Table_list = [] # 모든 표의 갯수 찾기\n",
    "Table_Total = 0\n",
    "for i in hwp.ctrl_list:\n",
    "        if i.UserDesc == \"표\":#컨트롤이 표일 경우\n",
    "            Table_list.append(i)#리스트에 저장\n",
    "hwp.select_ctrl(Table_list[2])"
   ]
  },
  {
   "cell_type": "code",
   "execution_count": 42,
   "metadata": {},
   "outputs": [
    {
     "data": {
      "text/plain": [
       "1"
      ]
     },
     "execution_count": 42,
     "metadata": {},
     "output_type": "execute_result"
    }
   ],
   "source": [
    "ctrl = hwp.CurSelectedCtrl\n",
    "ctrl.Properties.Item(\"TreatAsChar\")"
   ]
  },
  {
   "cell_type": "code",
   "execution_count": 39,
   "metadata": {},
   "outputs": [
    {
     "data": {
      "text/plain": [
       "4"
      ]
     },
     "execution_count": 39,
     "metadata": {},
     "output_type": "execute_result"
    }
   ],
   "source": [
    "prop = hwp.CurSelectedCtrl\n",
    "#prop.SetItem(\"Width\")\\\n",
    "#print(prop.Properties.Item(\"Width\") /283.465)\n",
    "#prop.SetItem(\"WidthRelTo\")\n",
    "prop.Properties.Item(\"WidthRelTo\")"
   ]
  },
  {
   "cell_type": "code",
   "execution_count": null,
   "metadata": {},
   "outputs": [],
   "source": [
    "prop = hwp.CurSelectedCtrl.Properties\n",
    "prop.SetItem(\"WidthRelTo\", 1)\n",
    "prop.SetItem(\"Width\", 100) ##????????????????????????????????\n",
    "hwp.CurSelectedCtrl.Properties = prop"
   ]
  }
 ],
 "metadata": {
  "kernelspec": {
   "display_name": "base",
   "language": "python",
   "name": "python3"
  },
  "language_info": {
   "codemirror_mode": {
    "name": "ipython",
    "version": 3
   },
   "file_extension": ".py",
   "mimetype": "text/x-python",
   "name": "python",
   "nbconvert_exporter": "python",
   "pygments_lexer": "ipython3",
   "version": "3.11.5"
  }
 },
 "nbformat": 4,
 "nbformat_minor": 2
}
