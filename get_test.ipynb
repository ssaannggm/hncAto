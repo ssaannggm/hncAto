{
 "cells": [
  {
   "cell_type": "code",
   "execution_count": null,
   "metadata": {},
   "outputs": [],
   "source": [
    "%pip install pyhwpx"
   ]
  },
  {
   "cell_type": "code",
   "execution_count": 39,
   "metadata": {},
   "outputs": [
    {
     "data": {
      "text/plain": [
       "True"
      ]
     },
     "execution_count": 39,
     "metadata": {},
     "output_type": "execute_result"
    }
   ],
   "source": [
    "#클립보드에서 함수추출\n",
    "from pyhwpx import Hwp\n",
    "import time\n",
    "# Hwp 인스턴스 생성\n",
    "hwp = Hwp()\n",
    "hwp.Run(\"FileOpen\")"
   ]
  },
  {
   "cell_type": "code",
   "execution_count": null,
   "metadata": {},
   "outputs": [],
   "source": [
    "def script_macro():\n",
    "    pset = hwp.HParameterSet.HCodeTable\n",
    "    hwp.HAction.GetDefault(\"InputCodeTable\", pset.HSet)\n",
    "    pset.Text = \"·\"#00b7\n",
    "    hwp.HAction.Execute(\"InputCodeTable\", pset.HSet)"
   ]
  },
  {
   "cell_type": "code",
   "execution_count": 40,
   "metadata": {},
   "outputs": [],
   "source": [
    "scr = ['·', #00b7\n",
    "       '·', #0387\n",
    "       'ּ', #05bc\n",
    "\n",
    "       '᛫', #16eb\n",
    "       'ᆞ',#119e\n",
    "\n",
    "       '∙',# 2219\n",
    "       '⦁', #2981\n",
    "       '⋅', #22c5\n",
    "       '•', #2022\n",
    "       '․',#2024\n",
    "       '‧', #2027\n",
    "       \n",
    "\n",
    "       '・',#30fb\n",
    "       'ㆍ',#318d\n",
    "\n",
    "       'ꞏ', #a78f\n",
    "       '', #f09e\n",
    "       '･', #ff65\n",
    "       ]\n",
    "dst = \"⋅\" #22c5\n",
    "for i in scr:\n",
    "    hwp.find_replace_all(i, dst)\n",
    "    \n",
    "##한번 바꾸고 앞뒤띄어쓰기 한번 더 찾아서 바꾸기\n"
   ]
  },
  {
   "cell_type": "code",
   "execution_count": null,
   "metadata": {},
   "outputs": [],
   "source": [
    "## 문서 내 바탕쪽 제거\n",
    "hwp.DeleteDocumentMasterPage() \n",
    "\n",
    "\n",
    "#문서 내 모든 머리말과 꼬리말 제거\n",
    "for ctrl in hwp.ctrl_list:\n",
    "    if ctrl.UserDesc.startswith(\"머리말\") or ctrl.UserDesc.startswith(\"꼬리말\"):\n",
    "        hwp.DeleteCtrl(ctrl)\n",
    "\n",
    "#문서 내 모든 미주 제거\n",
    "for ctrl in hwp.ctrl_list:\n",
    "    if ctrl.UserDesc.startswith(\"미주\"):\n",
    "        hwp.DeleteCtrl(ctrl)\n",
    "\n",
    "\n",
    "#두 줄 이상의 빈 줄을 없애기\n",
    "while True:\n",
    "    hwp.MoveDocBegin()\n",
    "    if hwp.find(\"^n^n\"):\n",
    "        hwp.find_replace(\"^n^n\", \"^n\")\n",
    "        # 또는 단순히 hwp.BreakPara()\n",
    "    else:\n",
    "        break\n"
   ]
  },
  {
   "cell_type": "code",
   "execution_count": null,
   "metadata": {},
   "outputs": [],
   "source": [
    "hwp.Path()"
   ]
  },
  {
   "cell_type": "code",
   "execution_count": 537,
   "metadata": {},
   "outputs": [],
   "source": [
    "#이전 문단\n",
    "hwp.Cancel()\n",
    "hwp.MoveParaBegin()#home키\n",
    "hwp.MovePrevParaBegin()#다음 문단 시작으로 커서 이동\n",
    "hwp.MoveSelParaEnd()#문단 끝까지 셀 선택\n",
    "\n",
    "# 표나 엔터도 선택되버림.\n",
    "if hwp.get_selected_text() : \n",
    "    hwp.get_selected_text()\n",
    "else: \n",
    "    print(\"없음\")\n",
    "    #hwp.MoveNextChar()\n",
    "    #hwp.MovePrevChar()\n",
    "    hwp.Cancel()\n",
    "    hwp.MoveLeft()"
   ]
  },
  {
   "cell_type": "code",
   "execution_count": null,
   "metadata": {},
   "outputs": [],
   "source": [
    "#다음 문단\n",
    "hwp.Cancel()\n",
    "hwp.MoveParaBegin()#home키\n",
    "hwp.MoveNextParaBegin()#다음 문단 시작으로 커서 이동\n",
    "hwp.MoveSelParaEnd()#문단 끝까지 셀 선택\n",
    "hwp.get_selected_text()\n",
    "if hwp.get_selected_text() : \n",
    "    print(hwp.get_selected_text())#저장\n",
    "else: \n",
    "    print(\"없음\")#저장안함\n",
    "    #hwp.MovePrevParaEnd() # 셀렉션의 str로 저장\n",
    "    #hwp.MoveLeft()\n",
    "    #hwp.MoveLineUp()\n",
    "    #hwp.MovePrevChar()\n",
    "    hwp.Cancel()\n",
    "    hwp.MoveLeft()"
   ]
  },
  {
   "cell_type": "code",
   "execution_count": null,
   "metadata": {},
   "outputs": [],
   "source": [
    "if hwp.get_selected_text() : \n",
    "    hwp.get_selected_text()\n",
    "else: \n",
    "    print(\"없음\")\n",
    "    hwp.MoveNextChar()"
   ]
  },
  {
   "cell_type": "code",
   "execution_count": null,
   "metadata": {},
   "outputs": [],
   "source": [
    "\n",
    "para_total = 0\n",
    "para_index = 0\n",
    "para_list =[]\n",
    "def 다음문단():\n",
    "    hwp.Cancel()\n",
    "    hwp.MoveParaBegin()#home키\n",
    "    hwp.MoveNextParaBegin()#다음 문단 시작으로 커서 이동\n",
    "    hwp.MoveSelParaEnd()#문단 끝까지 셀 선택\n",
    "def 리스트추가():\n",
    "    global para_list\n",
    "    if hwp.get_selected_text() : \n",
    "        para_list.append(hwp.get_selected_text()) #선택된 셀을 str로 리스트에 담음\n",
    "    else: \n",
    "        ###엔터인 부분.. \n",
    "        hwp.Cancel()\n",
    "        hwp.MoveLeft()\n",
    "\n",
    "hwp.Cancel()\n",
    "hwp.MoveDocBegin()# 맨 처음으로\n",
    "hwp.MoveSelParaEnd()#문단 끝까지 셀 선택\n",
    "리스트추가()\n",
    "while True:\n",
    "    다음문단()\n",
    "    # if hwp.get_selected_text():\n",
    "    #     #엔터아님\n",
    "    # else:\n",
    "    #     #엔터\n",
    "    if para_list[-1] == hwp.get_selected_text():\n",
    "        #del para_list[-1]  # 리스트의 마지막 항목 제거\n",
    "        break\n",
    "    리스트추가()\n",
    "\n",
    "para_total = len(para_list)\n",
    "print(para_list)\n",
    "print(para_total)\n"
   ]
  },
  {
   "cell_type": "markdown",
   "metadata": {},
   "source": []
  },
  {
   "cell_type": "code",
   "execution_count": null,
   "metadata": {},
   "outputs": [],
   "source": [
    "dic = hwp.get_style_dict()\n",
    "names = [item['name'] for item in dic]\n",
    "print(names)  #-> 그대로 콤보 박스 벨류에 넣고 한번 업데이트 해주면될듯\n"
   ]
  },
  {
   "cell_type": "code",
   "execution_count": 273,
   "metadata": {},
   "outputs": [],
   "source": [
    "import tkinter as tk\n",
    "from tkinter import ttk\n",
    "import re\n",
    "para = 0\n",
    "# Tkinter 윈도우 생성\n",
    "root = tk.Tk()\n",
    "root.title(\"Combobox Example\")\n",
    "# Combobox 프레임 생성\n",
    "frame_cell_macro = tk.Frame(root)\n",
    "frame_cell_macro.pack(pady=10, padx=10)\n",
    "\n",
    "# Combobox 생성 및 리스트 지정\n",
    "dropdown1 = ttk.Combobox(frame_cell_macro, values=names)\n",
    "dropdown1.pack()\n",
    "dropdown1.state([\"readonly\"])\n",
    "dropdown1.set(\"선택하세요\")  # 초기값 지정\n",
    "\n",
    "\n",
    "\n",
    "\n",
    "def 다음_찾기():\n",
    "    global para\n",
    "    while hwp.set_pos(0, para, 0):\n",
    "        hwp.MoveSelLineEnd()\n",
    "        if re.match(r\"\\d+\\)\", hwp.get_selected_text()):\n",
    "            selected_value = dropdown1.get()\n",
    "            hwp.set_style(f\"{selected_value}\")  # 2번스타일(개요 1) 적용\n",
    "            para+=1\n",
    "            break\n",
    "        else:\n",
    "            pass\n",
    "        hwp.Cancel()\n",
    "        para+=1\n",
    "btn1 = ttk.Button(frame_cell_macro, text=\"다음 찾기\", command=다음_찾기)\n",
    "btn1.pack()\n",
    "\n",
    "\n",
    "\n",
    "\n",
    "\n",
    "\n",
    "\n",
    "\n",
    "root.mainloop()\n"
   ]
  },
  {
   "cell_type": "code",
   "execution_count": 141,
   "metadata": {},
   "outputs": [
    {
     "data": {
      "text/plain": [
       "True"
      ]
     },
     "execution_count": 141,
     "metadata": {},
     "output_type": "execute_result"
    }
   ],
   "source": [
    "Table_list = [] # 모든 표의 갯수 찾기\n",
    "Table_Total = 0\n",
    "for i in hwp.ctrl_list:\n",
    "        if i.UserDesc == \"표\":#컨트롤이 표일 경우\n",
    "            Table_list.append(i)#리스트에 저장\n",
    "hwp.select_ctrl(Table_list[1])"
   ]
  },
  {
   "cell_type": "code",
   "execution_count": 129,
   "metadata": {},
   "outputs": [
    {
     "data": {
      "text/plain": [
       "0"
      ]
     },
     "execution_count": 129,
     "metadata": {},
     "output_type": "execute_result"
    }
   ],
   "source": [
    "ctrl = hwp.CurSelectedCtrl\n",
    "ctrl.Properties.Item(\"TreatAsChar\")"
   ]
  },
  {
   "cell_type": "code",
   "execution_count": 39,
   "metadata": {},
   "outputs": [
    {
     "data": {
      "text/plain": [
       "4"
      ]
     },
     "execution_count": 39,
     "metadata": {},
     "output_type": "execute_result"
    }
   ],
   "source": [
    "prop = hwp.CurSelectedCtrl\n",
    "#prop.SetItem(\"Width\")\\\n",
    "#print(prop.Properties.Item(\"Width\") /283.465)\n",
    "#prop.SetItem(\"WidthRelTo\")\n",
    "prop.Properties.Item(\"WidthRelTo\")"
   ]
  },
  {
   "cell_type": "code",
   "execution_count": null,
   "metadata": {},
   "outputs": [],
   "source": [
    "prop = hwp.CurSelectedCtrl.Properties\n",
    "prop.SetItem(\"WidthRelTo\", 1)\n",
    "prop.SetItem(\"Width\", 100) ##????????????????????????????????\n",
    "hwp.CurSelectedCtrl.Properties = prop"
   ]
  }
 ],
 "metadata": {
  "kernelspec": {
   "display_name": "base",
   "language": "python",
   "name": "python3"
  },
  "language_info": {
   "codemirror_mode": {
    "name": "ipython",
    "version": 3
   },
   "file_extension": ".py",
   "mimetype": "text/x-python",
   "name": "python",
   "nbconvert_exporter": "python",
   "pygments_lexer": "ipython3",
   "version": "3.11.5"
  }
 },
 "nbformat": 4,
 "nbformat_minor": 2
}
