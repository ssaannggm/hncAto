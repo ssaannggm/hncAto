{
 "cells": [
  {
   "cell_type": "code",
   "execution_count": null,
   "metadata": {},
   "outputs": [],
   "source": [
    "%pip install pyhwpx"
   ]
  },
  {
   "cell_type": "code",
   "execution_count": 124,
   "metadata": {},
   "outputs": [
    {
     "data": {
      "text/plain": [
       "True"
      ]
     },
     "execution_count": 124,
     "metadata": {},
     "output_type": "execute_result"
    }
   ],
   "source": [
    "#클립보드에서 함수추출\n",
    "from pyhwpx import Hwp\n",
    "import time\n",
    "# Hwp 인스턴스 생성\n",
    "hwp = Hwp()\n",
    "hwp.Run(\"FileOpen\")"
   ]
  },
  {
   "cell_type": "code",
   "execution_count": 4,
   "metadata": {},
   "outputs": [
    {
     "ename": "TypeError",
     "evalue": "'str' object is not callable",
     "output_type": "error",
     "traceback": [
      "\u001b[1;31m---------------------------------------------------------------------------\u001b[0m",
      "\u001b[1;31mTypeError\u001b[0m                                 Traceback (most recent call last)",
      "Cell \u001b[1;32mIn[4], line 1\u001b[0m\n\u001b[1;32m----> 1\u001b[0m \u001b[43mhwp\u001b[49m\u001b[38;5;241;43m.\u001b[39;49m\u001b[43mPath\u001b[49m\u001b[43m(\u001b[49m\u001b[43m)\u001b[49m\n",
      "\u001b[1;31mTypeError\u001b[0m: 'str' object is not callable"
     ]
    }
   ],
   "source": [
    "hwp.Path()"
   ]
  },
  {
   "cell_type": "code",
   "execution_count": 139,
   "metadata": {},
   "outputs": [
    {
     "data": {
      "text/plain": [
       "True"
      ]
     },
     "execution_count": 139,
     "metadata": {},
     "output_type": "execute_result"
    }
   ],
   "source": [
    "hwp.MoveDocBegin()# 맨 처음으로"
   ]
  },
  {
   "cell_type": "code",
   "execution_count": 20,
   "metadata": {},
   "outputs": [
    {
     "data": {
      "text/plain": [
       "True"
      ]
     },
     "execution_count": 20,
     "metadata": {},
     "output_type": "execute_result"
    }
   ],
   "source": [
    "hwp.MoveParaBegin()#home키"
   ]
  },
  {
   "cell_type": "code",
   "execution_count": 19,
   "metadata": {},
   "outputs": [
    {
     "data": {
      "text/plain": [
       "True"
      ]
     },
     "execution_count": 19,
     "metadata": {},
     "output_type": "execute_result"
    }
   ],
   "source": [
    "hwp.MovePrevParaBegin()#전 문단 시작으로 커서 이동"
   ]
  },
  {
   "cell_type": "code",
   "execution_count": 7,
   "metadata": {},
   "outputs": [
    {
     "data": {
      "text/plain": [
       "False"
      ]
     },
     "execution_count": 7,
     "metadata": {},
     "output_type": "execute_result"
    }
   ],
   "source": [
    "hwp.MoveNextParaBegin()#다음 문단 시작으로 커서 이동"
   ]
  },
  {
   "cell_type": "code",
   "execution_count": null,
   "metadata": {},
   "outputs": [
    {
     "data": {
      "text/plain": [
       "True"
      ]
     },
     "execution_count": 34,
     "metadata": {},
     "output_type": "execute_result"
    }
   ],
   "source": [
    "hwp.MoveSelParaEnd()#문단 끝까지 셀 선택"
   ]
  },
  {
   "cell_type": "code",
   "execution_count": null,
   "metadata": {},
   "outputs": [
    {
     "data": {
      "text/plain": [
       "True"
      ]
     },
     "execution_count": 13,
     "metadata": {},
     "output_type": "execute_result"
    }
   ],
   "source": [
    "hwp.MoveListEnd()#글의맨마지막.."
   ]
  },
  {
   "cell_type": "code",
   "execution_count": null,
   "metadata": {},
   "outputs": [
    {
     "data": {
      "text/plain": [
       "True"
      ]
     },
     "execution_count": 255,
     "metadata": {},
     "output_type": "execute_result"
    }
   ],
   "source": [
    "#이전 문단\n",
    "hwp.Cancel()\n",
    "hwp.MoveParaBegin()#home키\n",
    "hwp.MovePrevParaBegin()#다음 문단 시작으로 커서 이동\n",
    "hwp.MoveSelParaEnd()#문단 끝까지 셀 선택\n",
    "\n",
    "# 표나 엔터도 선택되버림.\n",
    "if hwp.get_selected_text() : \n",
    "    hwp.get_selected_text()\n",
    "else: \n",
    "    print(\"없음\")\n",
    "    hwp.MovePrevParaEnd() # 셀렉션의 str로 저장"
   ]
  },
  {
   "cell_type": "code",
   "execution_count": null,
   "metadata": {},
   "outputs": [
    {
     "name": "stdout",
     "output_type": "stream",
     "text": [
      "신청\n"
     ]
    }
   ],
   "source": [
    "#다음 문단\n",
    "hwp.Cancel()\n",
    "hwp.MoveParaBegin()#home키\n",
    "hwp.MoveNextParaBegin()#다음 문단 시작으로 커서 이동\n",
    "hwp.MoveSelParaEnd()#문단 끝까지 셀 선택\n",
    "\n",
    "if hwp.get_selected_text() : \n",
    "    print(hwp.get_selected_text())#저장\n",
    "else: \n",
    "    print(\"없음\")#저장안함\n",
    "    hwp.MovePrevParaEnd() # 셀렉션의 str로 저장"
   ]
  },
  {
   "cell_type": "code",
   "execution_count": null,
   "metadata": {},
   "outputs": [
    {
     "name": "stdout",
     "output_type": "stream",
     "text": [
      "111\n"
     ]
    }
   ],
   "source": [
    "if hwp.get_selected_text() : \n",
    "    hwp.get_selected_text()\n",
    "else: \n",
    "    print(\"없음\")\n",
    "    hwp.MovePrevParaEnd() # 셀렉션의 str로 저장\n"
   ]
  },
  {
   "cell_type": "code",
   "execution_count": 297,
   "metadata": {},
   "outputs": [
    {
     "name": "stdout",
     "output_type": "stream",
     "text": [
      "['1■ 서울시립과학관', '22024 과학테마교실', '3예약 : 4/25~26까지 공문 발송하여 예약 완료해야함', '4비용 : 1강좌당 25만원(20명일 때, 1인 12,500원) * 전시실 관람요금 포함', '5일시 : 10:00~11:40', '6장소 : 서울시립과학관 1~4교육실', '7교육시작 10분 전 입실', '8실험주제', '9화학: 음료속 카페인 찾아라', '10지구/생명: 돌말류를 이용한 수생태계 환경 분석', '11물리: 운동의 분석과 그래프 해석 ', '12실험 후 소감문, 개인별 추가 탐구 활동 보고서 받음', '13생기부 기록 (1.자율 2.진로)', '  14화학:하승주 / 생명:황환희 / 물리:이상민', '15---- 개인적으로 찾아본 곳 ----', '16■ 서울새활용플라자 - 자원순환이야기', '17- 전체 무료', '18- 회차별 5~30인 이내, 선착순 접수 4/29일 오전', '19[프로그램 내용]', '20- 도슨트(해설사)와 함께 서울새활용플라자 공간을 둘러보고 폐소재 워크샵 등 체험 교육을 통해 제로웨이스트 가치와 지구를 위한 실천을 알아보는 상시 프로그램', '21■ 강원대 가천대 캠퍼스 투어 프로그램 신청']\n",
      "21\n"
     ]
    }
   ],
   "source": [
    "\n",
    "para_total = 0\n",
    "para_index = 0\n",
    "para_list =[]\n",
    "def 다음문단():\n",
    "    hwp.Cancel()\n",
    "    hwp.MoveParaBegin()#home키\n",
    "    hwp.MoveNextParaBegin()#다음 문단 시작으로 커서 이동\n",
    "    hwp.MoveSelParaEnd()#문단 끝까지 셀 선택\n",
    "def 리스트추가():\n",
    "    global para_list\n",
    "    if hwp.get_selected_text() : \n",
    "        para_list.append(hwp.get_selected_text()) #선택된 셀을 str로 리스트에 담음\n",
    "    else: \n",
    "        hwp.MovePrevParaEnd() # 셀렉션의 str로 저장\n",
    "hwp.Cancel()\n",
    "hwp.MoveDocBegin()# 맨 처음으로\n",
    "hwp.MoveSelParaEnd()#문단 끝까지 셀 선택\n",
    "리스트추가()\n",
    "while True:\n",
    "    다음문단()\n",
    "    if para_list[-1] == hwp.get_selected_text():\n",
    "        del para_list[-1]  # 리스트의 마지막 항목 제거\n",
    "        break\n",
    "    리스트추가()\n",
    "\n",
    "para_total = len(para_list)\n",
    "print(para_list)\n",
    "print(para_total)\n"
   ]
  },
  {
   "cell_type": "code",
   "execution_count": null,
   "metadata": {},
   "outputs": [
    {
     "name": "stdout",
     "output_type": "stream",
     "text": [
      "['1■ 서울시립과학관', '22024 과학테마교실', '3예약 : 4/25~26까지 공문 발송하여 예약 완료해야함', '4비용 : 1강좌당 25만원(20명일 때, 1인 12,500원) * 전시실 관람요금 포함', '5일시 : 10:00~11:40', '6장소 : 서울시립과학관 1~4교육실', '7교육시작 10분 전 입실']\n",
      "7\n"
     ]
    }
   ],
   "source": []
  },
  {
   "cell_type": "markdown",
   "metadata": {},
   "source": []
  },
  {
   "cell_type": "code",
   "execution_count": null,
   "metadata": {},
   "outputs": [],
   "source": [
    "hwp.get_sel"
   ]
  },
  {
   "cell_type": "code",
   "execution_count": 141,
   "metadata": {},
   "outputs": [
    {
     "data": {
      "text/plain": [
       "True"
      ]
     },
     "execution_count": 141,
     "metadata": {},
     "output_type": "execute_result"
    }
   ],
   "source": [
    "Table_list = [] # 모든 표의 갯수 찾기\n",
    "Table_Total = 0\n",
    "for i in hwp.ctrl_list:\n",
    "        if i.UserDesc == \"표\":#컨트롤이 표일 경우\n",
    "            Table_list.append(i)#리스트에 저장\n",
    "hwp.select_ctrl(Table_list[1])"
   ]
  },
  {
   "cell_type": "code",
   "execution_count": 129,
   "metadata": {},
   "outputs": [
    {
     "data": {
      "text/plain": [
       "0"
      ]
     },
     "execution_count": 129,
     "metadata": {},
     "output_type": "execute_result"
    }
   ],
   "source": [
    "ctrl = hwp.CurSelectedCtrl\n",
    "ctrl.Properties.Item(\"TreatAsChar\")"
   ]
  },
  {
   "cell_type": "code",
   "execution_count": 39,
   "metadata": {},
   "outputs": [
    {
     "data": {
      "text/plain": [
       "4"
      ]
     },
     "execution_count": 39,
     "metadata": {},
     "output_type": "execute_result"
    }
   ],
   "source": [
    "prop = hwp.CurSelectedCtrl\n",
    "#prop.SetItem(\"Width\")\\\n",
    "#print(prop.Properties.Item(\"Width\") /283.465)\n",
    "#prop.SetItem(\"WidthRelTo\")\n",
    "prop.Properties.Item(\"WidthRelTo\")"
   ]
  },
  {
   "cell_type": "code",
   "execution_count": null,
   "metadata": {},
   "outputs": [],
   "source": [
    "prop = hwp.CurSelectedCtrl.Properties\n",
    "prop.SetItem(\"WidthRelTo\", 1)\n",
    "prop.SetItem(\"Width\", 100) ##????????????????????????????????\n",
    "hwp.CurSelectedCtrl.Properties = prop"
   ]
  }
 ],
 "metadata": {
  "kernelspec": {
   "display_name": "Python 3",
   "language": "python",
   "name": "python3"
  },
  "language_info": {
   "codemirror_mode": {
    "name": "ipython",
    "version": 3
   },
   "file_extension": ".py",
   "mimetype": "text/x-python",
   "name": "python",
   "nbconvert_exporter": "python",
   "pygments_lexer": "ipython3",
   "version": "3.11.4"
  }
 },
 "nbformat": 4,
 "nbformat_minor": 2
}
