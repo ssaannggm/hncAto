{
 "cells": [
  {
   "cell_type": "code",
   "execution_count": null,
   "metadata": {},
   "outputs": [],
   "source": [
    "#클립보드에서 함수추출\n",
    "from pyhwpx import Hwp\n",
    "import time\n",
    "# Hwp 인스턴스 생성\n",
    "hwp = Hwp()\n",
    "hwp.clipboard_to_pyfunc()"
   ]
  }
 ],
 "metadata": {
  "kernelspec": {
   "display_name": "Python 3",
   "language": "python",
   "name": "python3"
  },
  "language_info": {
   "name": "python",
   "version": "3.11.4"
  }
 },
 "nbformat": 4,
 "nbformat_minor": 2
}
