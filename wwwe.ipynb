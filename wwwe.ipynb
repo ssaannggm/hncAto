{
 "cells": [
  {
   "cell_type": "code",
   "execution_count": 1,
   "metadata": {},
   "outputs": [
    {
     "name": "stdout",
     "output_type": "stream",
     "text": [
      "def script_macro():\n",
      "    pset = hwp.HParameterSet.HShapeObject\n",
      "    FindCtrl()\n",
      "    hwp.HAction.GetDefault(\"ShapeObjDialog\", pset.HSet)\n",
      "    pset.TextWrap = hwp.TextWrapType(\"TopAndBottom\")\n",
      "    pset.TreatAsChar = 0\n",
      "    pset.HSet.SetItem(\"ShapeType\", 1)\n",
      "    hwp.HAction.Execute(\"ShapeObjDialog\", pset.HSet)\n"
     ]
    }
   ],
   "source": [
    "#클립보드에서 함수추출\n",
    "from pyhwpx import Hwp\n",
    "import time\n",
    "# Hwp 인스턴스 생성\n",
    "hwp = Hwp()\n",
    "hwp.clipboard_to_pyfunc()"
   ]
  }
 ],
 "metadata": {
  "kernelspec": {
   "display_name": "Python 3",
   "language": "python",
   "name": "python3"
  },
  "language_info": {
   "codemirror_mode": {
    "name": "ipython",
    "version": 3
   },
   "file_extension": ".py",
   "mimetype": "text/x-python",
   "name": "python",
   "nbconvert_exporter": "python",
   "pygments_lexer": "ipython3",
   "version": "3.11.9"
  }
 },
 "nbformat": 4,
 "nbformat_minor": 2
}
